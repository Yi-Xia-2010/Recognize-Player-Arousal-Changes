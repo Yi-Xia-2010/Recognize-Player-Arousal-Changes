{
 "cells": [
  {
   "cell_type": "code",
   "execution_count": null,
   "metadata": {},
   "outputs": [],
   "source": [
    "from sklearn.ensemble import RandomForestClassifier\n",
    "from sklearn.metrics import accuracy_score\n",
    "import numpy as np\n",
    "import random\n",
    "from PIL import Image\n",
    "import pandas as pd\n",
    "random.seed(0)\n",
    "np.random.seed(0)\n",
    "from transformers import VivitImageProcessor"
   ]
  },
  {
   "cell_type": "markdown",
   "metadata": {},
   "source": [
    "Prepare dataset"
   ]
  },
  {
   "cell_type": "code",
   "execution_count": null,
   "metadata": {},
   "outputs": [],
   "source": [
    "model_ckpt = \"google/vivit-b-16x2-kinetics400\"\n",
    "image_processor = VivitImageProcessor.from_pretrained(model_ckpt)"
   ]
  },
  {
   "cell_type": "code",
   "execution_count": null,
   "metadata": {},
   "outputs": [],
   "source": [
    "class_labels =['down','same','up']\n",
    "label2id = {label: i for i, label in enumerate(class_labels)}\n",
    "id2label = {i: label for label, i in label2id.items()}\n",
    "print(f\"Unique classes: {list(label2id.keys())}.\")"
   ]
  },
  {
   "cell_type": "code",
   "execution_count": null,
   "metadata": {},
   "outputs": [],
   "source": [
    "def get_file_name_and_parent_folder(file_path):\n",
    "  file_name = file_path.split('/')[-1].split('.')[0]\n",
    "  parent_folder = '/'.join(file_path.split('/')[:-1])\n",
    "  video_name = file_path.split('/')[-2]\n",
    "  player_id, session_id=video_name.split('_solid_')\n",
    "  return file_name, parent_folder, player_id, session_id"
   ]
  },
  {
   "cell_type": "code",
   "execution_count": null,
   "metadata": {},
   "outputs": [],
   "source": [
    "import torch\n",
    "\n",
    "from torch.utils.data import Dataset\n",
    "\n",
    "\n",
    "class MyCSVDataset(Dataset):\n",
    "    def __init__(self, csv_file, csv_file_2):\n",
    "        \n",
    "        self.data = pd.read_csv(csv_file)\n",
    "        self.gf = pd.read_csv(csv_file_2)\n",
    "        # revome control, label, and str features in clean_data\n",
    "        self.gf = self.gf.drop(columns=['[control]genre','[control]game', '[control]time_index','[output]arousal','[string]key_presses','[string]player_aim_target','[string]bot_damaged_by'],)\n",
    "        \n",
    "\n",
    "    def __len__(self):\n",
    "        return len(self.data)\n",
    "\n",
    "    def __getitem__(self, idx):\n",
    "\n",
    "        sample = self.data.iloc[idx]\n",
    "        gf = self.gf\n",
    "        clip_path = sample['start_frame']\n",
    "        file_name, parent_folder, player_id, session_id= get_file_name_and_parent_folder(clip_path)\n",
    "        file_name = int(file_name)\n",
    "\n",
    "        start=sample['start_time']\n",
    "        start = int(start)*4\n",
    "        end = start+24\n",
    "\n",
    "        # transform to tensor\n",
    "        game_vactor = gf[(gf['[control]player_id']==player_id)&(gf['[control]session_id']==session_id)]\n",
    "        game_vactor= game_vactor.drop(columns=['[control]player_id', '[control]session_id'],)\n",
    "        \n",
    "        pd.set_option('future.no_silent_downcasting', True)\n",
    "        game_vactor= game_vactor.fillna(0).infer_objects(copy=False)\n",
    "        game_vactor = game_vactor.iloc[start:end]\n",
    "        game_array = np.array(game_vactor.values)\n",
    "        game_tensor = torch.from_numpy(game_array)\n",
    "        game_tensor = game_tensor.float()\n",
    "\n",
    "        frames=[]\n",
    "        for i in range(32):\n",
    "            if (file_name<10):\n",
    "                frame_path = parent_folder + \"/000\" + str(file_name)+ \".png\"\n",
    "            elif (10<=file_name<100):\n",
    "                frame_path = parent_folder + \"/00\" + str(file_name)+ \".png\"\n",
    "            else:\n",
    "                frame_path = parent_folder + \"/0\" + str(file_name)+ \".png\"\n",
    "\n",
    "            # the frames path, adjust it if needed\n",
    "            frame_path = \"../Dataset\" + frame_path[1:]\n",
    "          \n",
    "            frame = Image.open(frame_path).convert('RGB')\n",
    "            frames.append(frame)\n",
    "            file_name += 1\n",
    "\n",
    "        inputs = image_processor(list(frames), return_tensors=\"pt\")\n",
    "        pixel_values = inputs['pixel_values']\n",
    "        pixel_values = pixel_values.squeeze(0)\n",
    "        inputs['pixel_values'] = pixel_values\n",
    "\n",
    "        label=sample['arousal_change']\n",
    "        label=label2id[label]\n",
    "        label_numpy = np.array([label])\n",
    "        label_tensor = torch.from_numpy(label_numpy)\n",
    "        label_tensor=torch.LongTensor(label_tensor)\n",
    "        \n",
    "        inputs['label']=label_tensor\n",
    "        inputs['game_tensor'] = game_tensor \n",
    "\n",
    "        return inputs\n",
    "\n",
    "# path to the helper file and clean_data file, adjust it if needed\n",
    "csv_file = '../Dataset/new_solid.csv'\n",
    "csv_file_2 = \"../Dataset/clean_data.csv\"\n",
    "dataset = MyCSVDataset(csv_file,csv_file_2)"
   ]
  },
  {
   "cell_type": "code",
   "execution_count": null,
   "metadata": {},
   "outputs": [],
   "source": [
    "torch.manual_seed(0)\n",
    "train_dataset, test_dataset = torch.utils.data.random_split(\n",
    "    dataset, [10240, 2560]\n",
    ")"
   ]
  },
  {
   "cell_type": "markdown",
   "metadata": {},
   "source": [
    "Traning"
   ]
  },
  {
   "cell_type": "code",
   "execution_count": null,
   "metadata": {},
   "outputs": [],
   "source": [
    "# transform data into tensors\n",
    "\n",
    "game_tensors = []\n",
    "labels = []\n",
    "\n",
    "for data in train_dataset:\n",
    "    game_tensor = data['game_tensor'].numpy()\n",
    "    label = data['label'].numpy()\n",
    "    \n",
    "    game_tensors.append(game_tensor)\n",
    "    labels.append(label)\n",
    "\n",
    "game_tensors_np = np.array(game_tensors)\n",
    "labels_np = np.array(labels)\n",
    "\n",
    "print(f'Game Tensors Shape: {game_tensors_np.shape}')\n",
    "print(f'Labels Shape: {labels_np.shape}')\n",
    "\n",
    "game_tensors_np=game_tensors_np.reshape(game_tensors_np.shape[0], -1)"
   ]
  },
  {
   "cell_type": "code",
   "execution_count": null,
   "metadata": {},
   "outputs": [],
   "source": [
    "clf = RandomForestClassifier(n_estimators=100, max_depth=10, random_state=0)\n",
    "clf.fit(game_tensors_np, labels_np)"
   ]
  },
  {
   "cell_type": "markdown",
   "metadata": {},
   "source": [
    "Test"
   ]
  },
  {
   "cell_type": "code",
   "execution_count": null,
   "metadata": {},
   "outputs": [],
   "source": [
    "test_game_tensors = []\n",
    "test_labels = []\n",
    "\n",
    "for data in test_dataset:\n",
    "    test_game_tensor = data['game_tensor'].numpy()\n",
    "    test_label = data['label'].numpy()\n",
    "    \n",
    "    test_game_tensors.append(test_game_tensor)\n",
    "    test_labels.append(test_label)\n",
    "\n",
    "test_game_tensors_np = np.array(test_game_tensors)\n",
    "test_labels_np = np.array(test_labels)\n",
    "test_game_tensors_np=test_game_tensors_np.reshape(test_game_tensors_np.shape[0], -1)"
   ]
  },
  {
   "cell_type": "code",
   "execution_count": null,
   "metadata": {},
   "outputs": [],
   "source": [
    "test_pred = clf.predict(test_game_tensors_np)"
   ]
  },
  {
   "cell_type": "code",
   "execution_count": null,
   "metadata": {},
   "outputs": [],
   "source": [
    "acc = accuracy_score(test_labels, test_pred)\n",
    "print(f'Accuracy: {acc}')"
   ]
  },
  {
   "cell_type": "code",
   "execution_count": null,
   "metadata": {},
   "outputs": [],
   "source": [
    "with open('acc.txt', 'a') as f:\n",
    "    f.write('acc_random_forest:\\n')\n",
    "    f.write(str(acc))\n",
    "    f.write('\\n')\n",
    "\n",
    "print(\"record \")"
   ]
  }
 ],
 "metadata": {
  "kernelspec": {
   "display_name": "Python 3",
   "language": "python",
   "name": "python3"
  },
  "language_info": {
   "name": "python",
   "version": "3.11.9"
  }
 },
 "nbformat": 4,
 "nbformat_minor": 2
}
