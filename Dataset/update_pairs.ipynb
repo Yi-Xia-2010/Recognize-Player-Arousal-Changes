{
 "cells": [
  {
   "cell_type": "code",
   "execution_count": null,
   "metadata": {},
   "outputs": [],
   "source": [
    "# This script is to generate a new csv helper file containing the pairs' info.\n",
    "\n",
    "import csv\n",
    "import os\n",
    "\n",
    "# Define the path to the sample pairs CSV file, adjust it if needed\n",
    "csv_file_path = \"solid_pairs.csv\"\n",
    "\n",
    "# Define the path to save the new sample pairs CSV file, adjust it if needed\n",
    "new_csv_file_path = \"new_solid.csv\"\n",
    "\n",
    "# Define the path to the frames directory, adjust it if needed\n",
    "image_dir_path = \"./Solid/frames/\"\n",
    "\n",
    "# Read the CSV file\n",
    "with open(csv_file_path, \"r\") as csv_file:\n",
    "    reader = csv.reader(csv_file)\n",
    "    data = list(reader)\n",
    "\n",
    "# Skip the first line (header)\n",
    "data = data[1:]\n",
    "\n",
    "# Initialize start and end numbers, as in each gameplay session, the game begins after 3 seconds.(6 frames per second)\n",
    "# The first frame will begin at 21st frame (uniformly extract 32 frome 36 frames in each 6-second pair)\n",
    "start_num = 21\n",
    "end_num = 52\n",
    "\n",
    "\n",
    "# Initialize previous base name\n",
    "prev_base_name = \"\"\n",
    "\n",
    "# List to store updated rows\n",
    "updated_data = []\n",
    "\n",
    "# Iterate over each row in the CSV data\n",
    "for row in data:\n",
    "    # Get the base name from the first column (without extension)\n",
    "    base_name = os.path.splitext(os.path.basename(row[0]))[0]\n",
    "    base_name = base_name + '/'\n",
    "\n",
    "    # If the base name has changed, reset the start and end numbers\n",
    "    if base_name != prev_base_name:\n",
    "        start_num = 21\n",
    "        end_num = 52\n",
    "        prev_base_name = base_name\n",
    "\n",
    "    # Define the start and end image paths\n",
    "    start_image_path = os.path.join(image_dir_path, base_name, f\"{start_num:04d}.png\")\n",
    "    end_image_path = os.path.join(image_dir_path, base_name, f\"{end_num:04d}.png\")\n",
    "\n",
    "\n",
    "    # Check if the start and end images exist\n",
    "    if os.path.exists(start_image_path) and os.path.exists(end_image_path):\n",
    "        # Add the start and end image paths to the row\n",
    "        row.extend([start_image_path, end_image_path])\n",
    "        print(f\"Images found and added for base name {base_name}\")\n",
    "    else:\n",
    "        print(f\"Images not found for base name {base_name}\")\n",
    "\n",
    "    # Add the updated row to the list\n",
    "    updated_data.append(row)\n",
    "\n",
    "    # Update start and end numbers for the next row\n",
    "    start_num += 6\n",
    "    end_num += 6\n",
    "\n",
    "# Write the new data back to the CSV file\n",
    "with open(new_csv_file_path, \"w\", newline=\"\") as csv_file:\n",
    "    writer = csv.writer(csv_file)\n",
    "    # Write the column names\n",
    "    writer.writerow(['video_path', 'start_time', 'end_time', 'arousal_change','start_frame','end_frame'])\n",
    "    # Write data\n",
    "    writer.writerows(data)\n",
    "\n"
   ]
  },
  {
   "cell_type": "code",
   "execution_count": null,
   "metadata": {},
   "outputs": [],
   "source": [
    "# This part is to remove the rows that is empty in 'start_frame'\n",
    "import pandas as pd\n",
    "df = pd.read_csv (new_csv_file_path)"
   ]
  },
  {
   "cell_type": "code",
   "execution_count": null,
   "metadata": {},
   "outputs": [],
   "source": [
    "# remove the rows that is empty in 'start_frame'\n",
    "\n",
    "df = df[df['start_frame'].notna()]"
   ]
  },
  {
   "cell_type": "code",
   "execution_count": null,
   "metadata": {},
   "outputs": [],
   "source": [
    "# update the helper file\n",
    "\n",
    "df.to_csv(new_csv_file_path, index=False)"
   ]
  }
 ],
 "metadata": {
  "kernelspec": {
   "display_name": "vivit",
   "language": "python",
   "name": "python3"
  },
  "language_info": {
   "codemirror_mode": {
    "name": "ipython",
    "version": 3
   },
   "file_extension": ".py",
   "mimetype": "text/x-python",
   "name": "python",
   "nbconvert_exporter": "python",
   "pygments_lexer": "ipython3",
   "version": "3.11.9"
  }
 },
 "nbformat": 4,
 "nbformat_minor": 2
}
